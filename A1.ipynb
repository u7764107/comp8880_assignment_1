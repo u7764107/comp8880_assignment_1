{
 "cells": [
  {
   "cell_type": "code",
   "execution_count": 2,
   "metadata": {},
   "outputs": [],
   "source": [
    "import networkx as nx\n",
    "import matplotlib.pyplot as plt\n",
    "import numpy as np"
   ]
  },
  {
   "cell_type": "markdown",
   "metadata": {},
   "source": [
    "Q2-1"
   ]
  },
  {
   "cell_type": "code",
   "execution_count": 3,
   "metadata": {},
   "outputs": [
    {
     "name": "stdout",
     "output_type": "stream",
     "text": [
      "Number of nodes:  3883\n",
      "Number of nodes:  14142\n"
     ]
    }
   ],
   "source": [
    "G = nx.Graph()\n",
    "\n",
    "with open(\"global-cities.dat\", \"r\", encoding = \"utf-8\") as f:\n",
    "    for line in f:\n",
    "        parts = line.strip().split(\"|\")\n",
    "        if len(parts) == 3:\n",
    "            code, num, name = parts\n",
    "            G.add_node(int(num), label = name)  # Adding nodes\n",
    "\n",
    "with open(\"global-net.dat\", \"r\", encoding = \"utf-8\") as f:\n",
    "    for line in f:\n",
    "        parts = line.strip().split()\n",
    "        if len(parts) == 2:\n",
    "            G.add_edge(int(parts[0]), int(parts[1]))\n",
    "\n",
    "\"\"\"\n",
    "plt.figure(figsize=(10, 7))\n",
    "nx.draw(G, with_labels=True, node_size=20, font_size=6)\n",
    "plt.show()\n",
    "\"\"\"\n",
    "\n",
    "print(\"Number of nodes: \", G.number_of_nodes())\n",
    "print(\"Number of nodes: \", G.number_of_edges())"
   ]
  },
  {
   "cell_type": "markdown",
   "metadata": {},
   "source": [
    "Q2-2"
   ]
  },
  {
   "cell_type": "code",
   "execution_count": 4,
   "metadata": {},
   "outputs": [
    {
     "name": "stdout",
     "output_type": "stream",
     "text": [
      "Number of connected components:  266\n",
      "Number of nodes of largest connected component:  3618\n",
      "Number of edges of largest connected component:  14142\n"
     ]
    }
   ],
   "source": [
    "num_components = nx.number_connected_components(G)\n",
    "\n",
    "largest_component = max(nx.connected_components(G), key=len)  # Largest component\n",
    "largest_subgraph = G.subgraph(largest_component)  # Create a subgraph\n",
    "\n",
    "print(\"Number of connected components: \", num_components)\n",
    "print(\"Number of nodes of largest connected component: \", len(largest_component))\n",
    "print(\"Number of edges of largest connected component: \", largest_subgraph.number_of_edges())\n"
   ]
  },
  {
   "cell_type": "markdown",
   "metadata": {},
   "source": [
    "Q2-3"
   ]
  },
  {
   "cell_type": "code",
   "execution_count": 5,
   "metadata": {},
   "outputs": [
    {
     "name": "stdout",
     "output_type": "stream",
     "text": [
      "City name: Paris , number of nodes: 250\n",
      "City name: London (GB) , number of nodes: 242\n",
      "City name: Frankfurt , number of nodes: 237\n",
      "City name: Amsterdam , number of nodes: 192\n",
      "City name: Moscow , number of nodes: 186\n",
      "City name: Chicago , number of nodes: 184\n",
      "City name: New York , number of nodes: 179\n",
      "City name: Atlanta , number of nodes: 172\n",
      "City name: Dallas/Fort Worth , number of nodes: 147\n",
      "City name: Houston , number of nodes: 144\n"
     ]
    }
   ],
   "source": [
    "largest_subGraph_degree_dic = dict(largest_subgraph.degree())\n",
    "sorted_nodes = sorted(largest_subGraph_degree_dic.items() , key=lambda x: x[1], reverse=True)\n",
    "\n",
    "top_10_nodes = sorted_nodes[:10]\n",
    "#print(sorted_nodes[:10])\n",
    "\n",
    "#print(G.nodes[top_10_nodes[0][0]]['label'])\n",
    "\n",
    "for node in top_10_nodes:\n",
    "    print(\"City name:\", G.nodes[node[0]]['label'], \", number of nodes:\", node[1])"
   ]
  },
  {
   "cell_type": "markdown",
   "metadata": {},
   "source": [
    "Q2-4"
   ]
  },
  {
   "cell_type": "code",
   "execution_count": 6,
   "metadata": {},
   "outputs": [
    {
     "data": {
      "image/png": "[encoded data removed]",
      "text/plain": [
       "<Figure size 640x480 with 1 Axes>"
      ]
     },
     "metadata": {},
     "output_type": "display_data"
    }
   ],
   "source": [
    "degrees = [d for _, d in largest_subgraph.degree()]\n",
    "degree_counts = np.bincount(degrees)\n",
    "\n",
    "num_nodes = len(largest_subgraph)\n",
    "degree_prob = degree_counts / num_nodes  \n",
    "\n",
    "valid_degrees = np.nonzero(degree_prob)[0] \n",
    "valid_prob = degree_prob[valid_degrees] \n",
    "\n",
    "plt.loglog(valid_degrees, valid_prob, marker='o', linestyle='none', base=10)\n",
    "\n",
    "plt.xlabel(\"Degree (k)\")\n",
    "plt.ylabel(\"Fraction of Nodes P(k)\")\n",
    "#plt.title(\"Degree Distribution (Log-Log Scale)\")\n",
    "#yticks = np.logspace(np.floor(np.log10(min(valid_prob))), np.ceil(np.log10(max(valid_prob))), num=6)\n",
    "#plt.yticks(yticks, [f\"{y:.1e}\" for y in yticks])  # Format in scientific notation\n",
    "plt.show()"
   ]
  },
  {
   "cell_type": "markdown",
   "metadata": {},
   "source": [
    "Q2-5"
   ]
  },
  {
   "cell_type": "code",
   "execution_count": 79,
   "metadata": {},
   "outputs": [
    {
     "name": "stdout",
     "output_type": "stream",
     "text": [
      "17\n",
      "Brize Norton - Georgetown (XV) - Mount Pleasant - Punta Arenas - Concepcion (CL) - Santiago (CL) - Buenos Aires - Auckland - Brisbane - Port Moresby - Lae - Indagen - Konge - Kabwum - Satwag - Derim - Yalumet - Wasu\n"
     ]
    }
   ],
   "source": [
    "diameter = nx.diameter(largest_subgraph)\n",
    "print(diameter)\n",
    "\n",
    "all_shortest_paths = dict(nx.all_pairs_shortest_path(largest_subgraph))\n",
    "city_pair = None\n",
    "\n",
    "for source in all_shortest_paths:\n",
    "    for target in all_shortest_paths[source]:\n",
    "        path = all_shortest_paths[source][target]\n",
    "        if len(path) - 1 == diameter:  # Check if this path is equal to the diameter\n",
    "            city_pair = (source, target)\n",
    "            longest_path = path\n",
    "            break\n",
    "        \n",
    "    if city_pair:\n",
    "        break\n",
    "\n",
    "print(\" - \".join(G.nodes[node]['label'] for node in longest_path))"
   ]
  },
  {
   "cell_type": "markdown",
   "metadata": {},
   "source": [
    "Q2-6"
   ]
  },
  {
   "cell_type": "code",
   "execution_count": 86,
   "metadata": {},
   "outputs": [
    {
     "name": "stdout",
     "output_type": "stream",
     "text": [
      "The smallest number of flights from Canberra to Cape Town: 3\n",
      "Canberra - Melbourne (AU) - Mauritius - Cape Town\n"
     ]
    }
   ],
   "source": [
    "for node, data in G.nodes(data=True):\n",
    "    if(data.get(\"label\") == \"Canberra\"):\n",
    "        canberra_node = node\n",
    "    if(data.get(\"label\") == \"Cape Town\"):\n",
    "        cape_town = node\n",
    "\n",
    "\n",
    "shortest_path_nodes = nx.shortest_path(largest_subgraph, source=canberra_node, target=cape_town)\n",
    "print(\"The smallest number of flights from Canberra to Cape Town:\", len(shortest_path_nodes)-1)\n",
    "shortest_path_cities = [G.nodes[n]['label'] for n in shortest_path_nodes]\n",
    "print(\" - \".join(shortest_path_cities))"
   ]
  },
  {
   "cell_type": "markdown",
   "metadata": {},
   "source": [
    "Q2-7"
   ]
  },
  {
   "cell_type": "code",
   "execution_count": 88,
   "metadata": {},
   "outputs": [
    {
     "name": "stdout",
     "output_type": "stream",
     "text": [
      "1. Paris - Betweenness values: 0.09342\n",
      "2. London (GB) - Betweenness values: 0.08499\n",
      "3. Anchorage - Betweenness values: 0.08152\n",
      "4. Singapore - Betweenness values: 0.07536\n",
      "5. New York - Betweenness values: 0.06928\n",
      "6. Los Angeles (US) - Betweenness values: 0.06625\n",
      "7. Frankfurt - Betweenness values: 0.06558\n",
      "8. Port Moresby - Betweenness values: 0.06432\n",
      "9. Tokyo - Betweenness values: 0.06024\n",
      "10. Seattle - Betweenness values: 0.05238\n"
     ]
    }
   ],
   "source": [
    "betweenness = nx.betweenness_centrality(largest_subgraph)\n",
    "sorted_betweenness = sorted(betweenness.items(), key=lambda x: x[1], reverse=True)\n",
    "top_10_betweenness = sorted_betweenness[:10]\n",
    "for rank, (node, centrality) in enumerate(top_10_betweenness, start=1):\n",
    "    city_name = largest_subgraph.nodes[node]['label']\n",
    "    print(f\"{rank}. {city_name} - Betweenness values: {centrality:.5f}\")"
   ]
  }
 ],
 "metadata": {
  "kernelspec": {
   "display_name": "base",
   "language": "python",
   "name": "python3"
  },
  "language_info": {
   "codemirror_mode": {
    "name": "ipython",
    "version": 3
   },
   "file_extension": ".py",
   "mimetype": "text/x-python",
   "name": "python",
   "nbconvert_exporter": "python",
   "pygments_lexer": "ipython3",
   "version": "3.11.7"
  }
 },
 "nbformat": 4,
 "nbformat_minor": 2
}
